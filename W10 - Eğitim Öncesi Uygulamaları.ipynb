{
 "cells": [
  {
   "attachments": {},
   "cell_type": "markdown",
   "metadata": {},
   "source": [
    "# Problem 1"
   ]
  },
  {
   "cell_type": "code",
   "execution_count": null,
   "metadata": {},
   "outputs": [],
   "source": [
    "# 1 - numpy kütüphanesini import edin\n",
    "\n",
    "# 2 - 0 ile 10 arasında 5 sayıdan oluşan matris üretin\n",
    "\n",
    "# 3 - matris'in boyutunu öğrenin\n",
    "\n",
    "# 4 - matris'i yeniden boyutlandırın\n",
    "\n",
    "# 5 - matris'in boyut sayısını öğrenin\n"
   ]
  },
  {
   "cell_type": "code",
   "execution_count": null,
   "metadata": {},
   "outputs": [],
   "source": [
    "import numpy as np\n",
    "#aslında numpy kütüphanesini install ettim ancak çallıştıramıyorum.\n",
    "\n",
    "matris = np.linspace(0, 10, 5)\n",
    "\n",
    "boyut = matris.shape\n",
    "print(\"Matris'in boyutu:\", boyut)\n",
    "\n",
    "matrisiYenidenBoyutlandir = matris.reshape(5, 1)\n",
    "print(\"Yeniden boyutlandırılmış matris:\\n\", matrisiYenidenBoyutlandir)\n",
    "\n",
    "boyutSayisi = matris.ndim\n",
    "print(\"Matris'in boyut sayısı:\", boyutSayisi)"
   ]
  },
  {
   "attachments": {},
   "cell_type": "markdown",
   "metadata": {},
   "source": [
    "# Problem 2"
   ]
  },
  {
   "cell_type": "code",
   "execution_count": null,
   "metadata": {},
   "outputs": [],
   "source": [
    "# 1 - 0 ile 10 arasında bulunan tek sayılardan oluşan matris üretin\n",
    "\n",
    "# 2 - Oluşturduğunuz matrisi parçalayın\n",
    "\n",
    "# 3 - Parçalanmış matrisleri birleştirin\n"
   ]
  },
  {
   "cell_type": "code",
   "execution_count": null,
   "metadata": {},
   "outputs": [],
   "source": [
    "import numpy as np\n",
    "\n",
    "matris = np.linspace(0, 10, 5)\n",
    "\n",
    "boyut = matris.shape\n",
    "print(\"Matris'in boyutu:\", boyut)\n",
    "\n",
    "matris_reshape = matris.reshape(5, 1)\n",
    "print(\"Yeniden boyutlandırılmış matris:\\n\", matris_reshape)\n",
    "\n",
    "boyut_sayisi = matris.ndim\n",
    "print(\"Matris'in boyut sayısı:\", boyut_sayisi)\n"
   ]
  },
  {
   "attachments": {},
   "cell_type": "markdown",
   "metadata": {},
   "source": [
    "# Problem 3"
   ]
  },
  {
   "cell_type": "code",
   "execution_count": null,
   "metadata": {},
   "outputs": [],
   "source": [
    "# 1 - 5 ile 100 arasında ikişer ikişer atlayarak rastgele 10 sayıdan oluşan matris üretin\n",
    "\n",
    "# 2 - matris'in özelliklerini inceleyin\n"
   ]
  },
  {
   "cell_type": "code",
   "execution_count": null,
   "metadata": {},
   "outputs": [],
   "source": [
    "import numpy as np\n",
    "\n",
    "aralik = np.arange(5, 101, 2)\n",
    "\n",
    "matris = np.random.choice(aralik, size=10, replace=False)\n",
    "\n",
    "print(\"Matris:\\n\", matris)\n",
    "print(\"Matris'in boyutu:\", matris.shape)\n",
    "print(\"Matris'in boyut sayısı:\", matris.ndim)\n",
    "print(\"Matris'in veri türü:\", matris.dtype)\n",
    "print(\"Matris'in toplam eleman sayısı:\", matris.size)\n",
    "print(\"Matris'in maksimum değeri:\", np.max(matris))\n",
    "print(\"Matris'in minimum değeri:\", np.min(matris))\n",
    "print(\"Matris'in ortalama değeri:\", np.mean(matris))\n"
   ]
  }
 ],
 "metadata": {
  "kernelspec": {
   "display_name": "Python 3",
   "language": "python",
   "name": "python3"
  },
  "language_info": {
   "codemirror_mode": {
    "name": "ipython",
    "version": 3
   },
   "file_extension": ".py",
   "mimetype": "text/x-python",
   "name": "python",
   "nbconvert_exporter": "python",
   "pygments_lexer": "ipython3",
   "version": "3.12.3"
  },
  "orig_nbformat": 4,
  "vscode": {
   "interpreter": {
    "hash": "5026d2d6e7aaaaba093def813beadff083d8733e4a511af01735cbabd156995d"
   }
  }
 },
 "nbformat": 4,
 "nbformat_minor": 2
}
