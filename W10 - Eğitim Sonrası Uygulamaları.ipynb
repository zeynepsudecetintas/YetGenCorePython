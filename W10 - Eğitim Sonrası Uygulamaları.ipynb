{
 "cells": [
  {
   "attachments": {},
   "cell_type": "markdown",
   "metadata": {},
   "source": [
    "# Problem 1 "
   ]
  },
  {
   "cell_type": "code",
   "execution_count": null,
   "metadata": {},
   "outputs": [],
   "source": [
    "# 1 - numpy kütüphanesini import edin\n",
    "\n",
    "# 2 - 5 elemanlı bir numpy array oluşturun\n",
    "\n",
    "# 3 - Oluşturduğunuz arrayi küçükten büyüğe sıralayın.\n"
   ]
  },
  {
   "cell_type": "code",
   "execution_count": null,
   "metadata": {},
   "outputs": [],
   "source": [
    "#numpy kütüphanesini import etmekte sorun yaşıyorum.\n",
    "import numpy as np\n",
    "\n",
    "array = np.array([34, 7, 23, 90, 12])\n",
    "\n",
    "sorted_array = np.sort(array)\n",
    "\n",
    "print(\"Orijinal Array:\", array)\n",
    "print(\"Sıralı Array:\", sorted_array)\n"
   ]
  },
  {
   "attachments": {},
   "cell_type": "markdown",
   "metadata": {},
   "source": [
    "# Problem 2"
   ]
  },
  {
   "cell_type": "code",
   "execution_count": null,
   "metadata": {},
   "outputs": [],
   "source": [
    "# 1- (10,15,30,45,60) değerlerine sahip numpy dizisi oluşturunuz.\n",
    "\n",
    "\n",
    "# 2- (5-15) arasındaki sayılarla numpy dizisi oluşturunuz.\n",
    " \n",
    "# 3- (50-100) arasında 5'er 5'er artarak numpy dizisi oluşturunuz.\n",
    "\n",
    "\n",
    "# 4- 10 elemanlı sıfırlardan oluşan bir dizi oluşturunuz.\n",
    "\n",
    "\n",
    "# 5- 10 elemanlı birlerden oluşan bir dizi oluşturunuz.\n",
    "\n",
    "\n",
    "# 6- (0-100) arasında eşit aralıklı 5 sayı üretin.\n",
    "\n",
    "\n",
    "# 7- (10-30) arasında rastgele 5 tane tamsayı üretin.\n",
    "\n",
    "\n",
    "# 8- [-1 ile 1] arasında 10 adet sayı üretin.\n",
    "\n",
    "\n",
    "# 9- (3x5) boyutlarında (10-50) arasında rastgele bir matris oluşturunuz.\n",
    "\n",
    "\n",
    "# 10- Üretilen matrisin satır ve sütun sayıları toplamlarını hesaplayınız ?\n",
    "\n",
    "\n",
    "# 11- Üretilen matrisin en büyük, en küçük ve ortalaması nedir ?\n",
    "\n",
    "\n",
    "# 12- Üretilen matrisin en büyük değerinin indeksi kaçtır ?\n",
    "\n",
    "\n",
    "# 13- (10-20) arasındaki sayıları içeren dizinin ilk 3 elemanını seçiniz.\n",
    "\n",
    "\n",
    "# 14- Üretilen dizinin elemanlarını tersten yazdırın.\n",
    "\n",
    "\n",
    "# 15- Üretilen matrisin ilk satırını seçiniz.\n",
    "\n",
    "\n",
    "# 16- Üretilen matrisin 2.satır 3.sütundaki elemanı hangisidir ?\n",
    "\n",
    "\n",
    "# 17- Üretilen matrisin tüm satırlardaki ilk elemanı seçiniz.\n",
    "\n",
    "\n",
    "# 18- Üretilen matrisin her bir elemanının karesini alınız.\n",
    "\n",
    "\n",
    "# 19- Üretilen matris elemanlarının hangisi pozitif çift sayıdır ? Aralığı (-50,+50) arasında yapınız.\n"
   ]
  },
  {
   "cell_type": "code",
   "execution_count": null,
   "metadata": {},
   "outputs": [],
   "source": [
    "import numpy as np\n",
    "\n",
    "dizi1 = np.array([10, 15, 30, 45, 60])\n",
    "print(\"Dizi 1:\", dizi1)\n",
    "dizi2 = np.arange(5, 16)\n",
    "print(\"Dizi 2:\", dizi2)\n",
    "dizi3 = np.arange(50, 101, 5)\n",
    "print(\"Dizi 3:\", dizi3)\n",
    "dizi4 = np.zeros(10)\n",
    "print(\"Dizi 4:\", dizi4)\n",
    "dizi5 = np.ones(10)\n",
    "print(\"Dizi 5:\", dizi5)\n",
    "dizi6 = np.linspace(0, 100, 5)\n",
    "print(\"Dizi 6:\", dizi6)\n",
    "dizi7 = np.random.randint(10, 31, size=5)\n",
    "print(\"Dizi 7:\", dizi7)\n",
    "dizi8 = np.random.uniform(-1, 1, 10)\n",
    "print(\"Dizi 8:\", dizi8)\n",
    "matris = np.random.randint(10, 51, size=(3, 5))\n",
    "print(\"Matris:\\n\", matris)\n",
    "\n",
    "satir_sayi = matris.shape[0]\n",
    "sutun_sayi = matris.shape[1]\n",
    "toplam_sayilar = satir_sayi + sutun_sayi\n",
    "print(\"Satır sayısı:\", satir_sayi)\n",
    "print(\"Sütun sayısı:\", sutun_sayi)\n",
    "print(\"Satır ve sütun sayıları toplamı:\", toplam_sayilar)\n",
    "\n",
    "en_buyuk = np.max(matris)\n",
    "en_kucuk = np.min(matris)\n",
    "ortalama = np.mean(matris)\n",
    "print(\"En büyük değer:\", en_buyuk)\n",
    "print(\"En küçük değer:\", en_kucuk)\n",
    "print(\"Ortalama değer:\", ortalama)\n",
    "\n",
    "en_buyuk_indeks = np.argmax(matris)\n",
    "print(\"En büyük değerin indeksi:\", en_buyuk_indeks)\n",
    "\n",
    "dizi13 = np.arange(10, 21)\n",
    "ilk_uc = dizi13[:3]\n",
    "print(\"İlk 3 eleman:\", ilk_uc)\n",
    "\n",
    "ters_dizi13 = dizi13[::-1]\n",
    "print(\"Dizinin ters hali:\", ters_dizi13)\n",
    "\n",
    "ilk_satir = matris[0]\n",
    "print(\"İlk satır:\", ilk_satir)\n",
    "\n",
    "eleman = matris[1, 2]\n",
    "print(\"2. satır 3. sütundaki eleman:\", eleman)\n",
    "\n",
    "ilk_elemanlar = matris[:, 0]\n",
    "print(\"Tüm satırlardaki ilk elemanlar:\", ilk_elemanlar)\n",
    "\n",
    "karesini_al = np.square(matris)\n",
    "print(\"Matrisin her bir elemanının karesi:\\n\", karesini_al)\n",
    "\n",
    "matris19 = np.random.randint(-50, 51, size=(3, 5))\n",
    "pozitif_cift = matris19[(matris19 > 0) & (matris19 % 2 == 0)]\n",
    "print(\"Pozitif çift sayılar:\\n\", pozitif_cift)\n"
   ]
  },
  {
   "cell_type": "markdown",
   "metadata": {},
   "source": []
  }
 ],
 "metadata": {
  "kernelspec": {
   "display_name": "Python 3",
   "language": "python",
   "name": "python3"
  },
  "language_info": {
   "name": "python",
   "version": "3.10.5 (tags/v3.10.5:f377153, Jun  6 2022, 16:14:13) [MSC v.1929 64 bit (AMD64)]"
  },
  "orig_nbformat": 4,
  "vscode": {
   "interpreter": {
    "hash": "5026d2d6e7aaaaba093def813beadff083d8733e4a511af01735cbabd156995d"
   }
  }
 },
 "nbformat": 4,
 "nbformat_minor": 2
}
