{
  "cells": [
    {
      "cell_type": "markdown",
      "metadata": {
        "id": "tsD4YVAe_Te2"
      },
      "source": [
        "# Problem 1\n",
        "Bir sayının 7'ye bölünebilir olup olmadığını kontrol etmek \n",
        "için bir program yazın.\n",
        "\n",
        "İpucu: Mod operatörünü (%) kullanabilirsiniz."
      ]
    },
    {
      "cell_type": "code",
      "execution_count": 5,
      "metadata": {
        "id": "NGjvNwKx_Te7"
      },
      "outputs": [
        {
          "name": "stdout",
          "output_type": "stream",
          "text": [
            "Sayı 7'ye bölünebiliyor.\n"
          ]
        }
      ],
      "source": [
        "number = int(input(\"Sayıyı giriniz: \"))\n",
        "if number % 7 == 0:\n",
        "    print(\"Sayı 7'ye bölünebiliyor.\")\n",
        "else:\n",
        "    print(\"Sayı yediye bölünemiyor.\")"
      ]
    },
    {
      "cell_type": "markdown",
      "metadata": {
        "id": "Kg3qiBAI_Te8"
      },
      "source": [
        "# Problem 2\n",
        "Kullanıcıdan vize ve final notu isteyin. Girilen vize notunun %40’ı ve \n",
        "girilen finalnotunun ise %60’ı alınarak yıl sonu not ortalaması hesaplanacaktır. \n",
        "\n",
        "Bu not ortalaması eğer 85 ve üzeri ise AA, \n",
        "\n",
        "75 ve 85 arasında ise BA, \n",
        "\n",
        "70 ve 75 arasında ise BB, \n",
        "\n",
        "65 ve 70 arasında ise CB,\n",
        "\n",
        "60 ve 65 arasında ise CC,\n",
        "\n",
        "55 ve 60 arasında ise DC,\n",
        "\n",
        "50 ve 55 arasında ise DD olarak hesaplanacaktır. \n",
        "\n",
        "Bu öğrencinin yıl sonu toplam notu 50’nin altında ise FF ile dersten kalacaktır. \n",
        "\n",
        "Ayrıca öğrencinin final notu 50’nin altında ise direkt FF ile kalacaktır."
      ]
    },
    {
      "cell_type": "code",
      "execution_count": 31,
      "metadata": {
        "id": "MXTtCxI1_Te8"
      },
      "outputs": [
        {
          "name": "stdout",
          "output_type": "stream",
          "text": [
            "FF\n"
          ]
        },
        {
          "ename": "SyntaxError",
          "evalue": "'break' outside loop (2566392588.py, line 26)",
          "output_type": "error",
          "traceback": [
            "\u001b[0;36m  Cell \u001b[0;32mIn[31], line 26\u001b[0;36m\u001b[0m\n\u001b[0;31m    break\u001b[0m\n\u001b[0m    ^\u001b[0m\n\u001b[0;31mSyntaxError\u001b[0m\u001b[0;31m:\u001b[0m 'break' outside loop\n"
          ]
        }
      ],
      "source": [
        "midterm = int(input(\"Vize notunuzu giriniz: \"))\n",
        "final = int(input(\"Final notunuzu giriniz: \"))\n",
        "\n",
        "if final < 50:\n",
        "    print(\"FF\")\n",
        "\n",
        "# Buraya break, else: continue komutları yazmak için çok çabaladım ama denediğim her yolda break komutunun loop dışında olduğu uyarısı verdi.\n",
        "## Pazartesi günkü derste öğrendim ki break ve continue komutları döngü sonlandırıyor. Ve if bir döngü değil bu yüzden çalışmamış.\n",
        "termNote = (midterm * 40 / 100) + (final * 60 / 100)\n",
        "\n",
        "if termNote >= 85:\n",
        "    print(\"Dersi AA ile geçtiniz.\")\n",
        "if termNote >= 75 and termNote < 85:\n",
        "    print(\"Dersi BA ile geçtiniz.\")\n",
        "if termNote >= 70 and termNote < 75:\n",
        "    print(\"Dersi BB ile geçtiniz.\")\n",
        "if termNote >= 65 and termNote < 70:\n",
        "    print(\"Dersi CB ile geçtiniz.\")\n",
        "if termNote >= 60 and termNote < 65:\n",
        "    print(\"Dersi CC ile geçtiniz.\")\n",
        "if termNote >= 55 and termNote < 60:\n",
        "    print(\"Dersi DC ile geçtiniz.\")\n",
        "if termNote >= 50 and termNote < 55:\n",
        "    print(\"Dersi DD ile geçtiniz.\")  \n",
        "else:\n",
        "    print(\"FF\")\n",
        "    break\n",
        "\n",
        "# Yine buradaki break komutu için de \"outside loop\" uyarısı veriyor.\n",
        "# Kod şu an çalıştığı için daha fazla kurcalamayacağım.\n"
      ]
    },
    {
      "cell_type": "markdown",
      "metadata": {
        "id": "tAoRYCTC_Te8"
      },
      "source": [
        "# Problem 3\n",
        "İki YetGenli Zirve'de karşılaşıyorlar. Birbirlerini tanımak için sorular soruyorlar. Birbirlerine yaşlarını soruyorlar. Akıllarına bir Python programı yazıp, yaşlarını ve isimlerini giriyorlar. Büyük olanın yaşını ekrana yazdıran programı yazıyorlar. Sende bu iki YetGenli'ye destek olmak ister misin?\n",
        "\n",
        "```\n",
        "Birinci YetGenlinin ismi: Ahmet\n",
        "Birinci YetGenlinin yaşı : 20\n",
        "İkinci YetGenlinin ismi: Mehmet\n",
        "İkinci YetGenlinin yaşı : 25\n",
        "Mehmet'in yaşı daha büyük ve yaşı 25'tir.\n",
        "```"
      ]
    },
    {
      "cell_type": "code",
      "execution_count": 33,
      "metadata": {
        "id": "bPjE8W0i_Te8"
      },
      "outputs": [
        {
          "name": "stdout",
          "output_type": "stream",
          "text": [
            "Mehmet'in yaşı daha büyüktür.\n"
          ]
        }
      ],
      "source": [
        "nameFirst = input(\"İsminizi giriniz: \")\n",
        "ageFirst = int(input(\"Yaşınızı giriniz: \"))\n",
        "\n",
        "nameSecond = input(\"İsminizi giriniz: \")\n",
        "ageSecond = int(input(\"Yaşınızı giriniz: \"))\n",
        "\n",
        "if ageFirst > ageFirst:\n",
        "    print(\"Ahmet'in yaşı daha büyüktür.\")\n",
        "else: \n",
        "    print(\"Mehmet'in yaşı daha büyüktür.\")\n",
        "\n",
        "# Yaşlarının eşit olma ihtimalinde outputun yanlış olacağını biliyorum ancak bu örnekte yaşları belli ve birbirinden farklı olduğu için koda dahil etmedim. \n",
        "\n"
      ]
    },
    {
      "cell_type": "markdown",
      "metadata": {
        "id": "zBVv8Tyg_Te9"
      },
      "source": [
        "# Problem 4\n",
        "Pandemi döneminde AVM'lerde ateş ölçümü yapılıyor. AVM'ye giren kişinin ateş ölçümü 37.5 derecenin altında ise girişe izin veriliyor. 37.5 derecenin üstünde ise girişe izin verilmiyor. AVM'ye girişe izin verilip verilmediğini ekrana yazdıran bir program yazın.\n",
        "\n",
        "Program sonunda şöyle bir çıktı elde etmelisiniz:\n",
        "\n",
        "```\n",
        "Ateşiniz 37.5 derece. AVM'ye girebilirsin! Maske takmayı unutma!\n",
        "Ateşiniz 37.6 derece. AVM'ye giremezsin! Hemen evine dön!\n",
        "```"
      ]
    },
    {
      "cell_type": "code",
      "execution_count": 35,
      "metadata": {
        "id": "TSAXs8et_Te9"
      },
      "outputs": [
        {
          "name": "stdout",
          "output_type": "stream",
          "text": [
            "Ateşiniz 38.0 derece. AVM'ye giremezsin! Hemen evine dön!\n"
          ]
        }
      ],
      "source": [
        "ates = float(input(\"Ateşinizi giriniz: \"))\n",
        "\n",
        "if ates <= 37.5:\n",
        "    print(\"Ateşiniz 37.5 derece. AVM'ye girebilirsiniz. Maske takmayı unutma!\")\n",
        "else:\n",
        "    print(\"Ateşiniz {} derece. AVM'ye giremezsin! Hemen evine dön!\" .format(ates))\n"
      ]
    },
    {
      "cell_type": "markdown",
      "metadata": {
        "id": "6AEkZrDt_Te9"
      },
      "source": [
        "# Problem 5\n",
        "YetGen bir spor kulübüyle sponsorluk anlaşması yapıyor. Kulüp, sponsorluk anlaşmasına göre her YetGen liderinin beden kitle indeksini hesaplamak istiyor. Spor kulübü, beden kitle indeksini hesaplamak için YetGen Jump Python liderlerinden Berkcan ve Ahmet'i arıyor. Berkcan ve Ahmet, kulübe yardımcı olmak için bir Python programı yazıyorlar. Sende bu iki YetGen liderine destek olmak ister misin?\n",
        "\n",
        "Kullanıcıdan alınan boy ve kilo değerlerine göre beden kitle indeksini hesaplayın ve şu kurallara göre ekrana şu yazıları yazdırın.\n",
        "\n",
        "\n",
        "Beden Kitle İndeksi, kişinin ağırlığının (kg olarak) boyunun karesine (m olarak) bölünmesiyle hesaplanır.\n",
        "\n",
        "\n",
        "```\n",
        " BKİ 18.5'un altındaysa -------> Zayıf\n",
        "\n",
        " BKİ 18.5 ile 25 arasındaysa ------> Normal\n",
        "\n",
        " BKİ 25 ile 30 arasındaysa --------> Fazla Kilolu\n",
        "\n",
        " BKİ 30'un üstündeyse -------------> Obez\n",
        "```\n",
        "\n"
      ]
    },
    {
      "cell_type": "code",
      "execution_count": 36,
      "metadata": {
        "id": "t-XPI_u0_Te-"
      },
      "outputs": [
        {
          "name": "stdout",
          "output_type": "stream",
          "text": [
            "Normal\n"
          ]
        }
      ],
      "source": [
        "name = input(\"Adınız nedir? \")\n",
        "weight = float(input(\"Ağırlığınızı kilogram cinsinden giriniz: \"))\n",
        "height = float(input(\"Boyunuzu metre cinsinden giriniz: \"))\n",
        "\n",
        "bki = weight / height ** 2\n",
        "\n",
        "if bki < 18.5:\n",
        "    print(\"Zayıf\")\n",
        "if bki < 25 and bki >= 18.5:\n",
        "    print(\"Normal\")\n",
        "if bki < 30 and bki >= 25:\n",
        "    print(\"Fazla kilolu.\")\n",
        "if bki > 30:\n",
        "    print(\"Obez\")\n"
      ]
    },
    {
      "cell_type": "markdown",
      "metadata": {
        "id": "oFsvQyaO_Te-"
      },
      "source": [
        "# Problem 6\n",
        "Kullanıcıdan isim, yaş ve eğitim bilgilerini isteyip ehliyet alabilme  durumunu kontrol ediniz. \n",
        "\n",
        "Ehliyet alma koşulu en az 18 yaşında ve eğitim durumu lise ya da üniversite olmalıdır. "
      ]
    },
    {
      "cell_type": "code",
      "execution_count": 38,
      "metadata": {
        "id": "Tu2mcgco_Te-"
      },
      "outputs": [
        {
          "name": "stdout",
          "output_type": "stream",
          "text": [
            "Ehliyet alabilirsiniz.\n"
          ]
        }
      ],
      "source": [
        "name = input(\"İsminiz: \")\n",
        "age = int(input(\"Yaşınız: \"))\n",
        "education = input(\"Mevcut eğitim durumunuz: \")\n",
        "\n",
        "if age >= 18 and education == \"Üniversite\" or education == \"Lise\":\n",
        "    print(\"Ehliyet alabilirsiniz.\")\n",
        "else:\n",
        "    print(\"Ehliyet alamazsınız.\")"
      ]
    },
    {
      "cell_type": "markdown",
      "metadata": {
        "id": "eUkxVSAE_Te_"
      },
      "source": [
        "# Problem 7\n",
        "Bir yılın artık yıl olup olmadığını kontrol etmek için bir program yazın. \n",
        "Artık yıl kuralı:\n",
        "\n",
        "a) Eğer yılın son iki basamağı (00) ile bitmiyor ve yalnızca 4'e tam bölünüyorsa artık yıldır. Ya da, \n",
        "\n",
        "b) Eğer yıl 400'e tam bölünüyorsa artık yıldır.\n",
        "\n",
        "**Örneğin**\n",
        "```\n",
        "2017 artık yıl değildir.\n",
        "1900 artık yıl değildir\n",
        "2012 artık yıldır.\n",
        "2000 artık yıldır.\n",
        "```"
      ]
    },
    {
      "cell_type": "code",
      "execution_count": 41,
      "metadata": {
        "id": "4uWh8qUL_Te_"
      },
      "outputs": [
        {
          "name": "stdout",
          "output_type": "stream",
          "text": [
            "Artık yıl değil.\n"
          ]
        }
      ],
      "source": [
        "year = int(input(\"Mevcut yılı giriniz: \"))\n",
        "\n",
        "if year % 400 == 0:\n",
        "    print(\"Artık yıl.\")\n",
        "else:\n",
        "    print(\"Artık yıl değil.\")"
      ]
    },
    {
      "cell_type": "code",
      "execution_count": null,
      "metadata": {},
      "outputs": [],
      "source": []
    }
  ],
  "metadata": {
    "colab": {
      "provenance": []
    },
    "kernelspec": {
      "display_name": "Python 3.10.5 64-bit",
      "language": "python",
      "name": "python3"
    },
    "language_info": {
      "codemirror_mode": {
        "name": "ipython",
        "version": 3
      },
      "file_extension": ".py",
      "mimetype": "text/x-python",
      "name": "python",
      "nbconvert_exporter": "python",
      "pygments_lexer": "ipython3",
      "version": "3.12.3"
    },
    "orig_nbformat": 4,
    "vscode": {
      "interpreter": {
        "hash": "5026d2d6e7aaaaba093def813beadff083d8733e4a511af01735cbabd156995d"
      }
    }
  },
  "nbformat": 4,
  "nbformat_minor": 0
}
